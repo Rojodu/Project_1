{
 "cells": [
  {
   "cell_type": "code",
   "execution_count": 1,
   "id": "efd05ca6",
   "metadata": {},
   "outputs": [],
   "source": [
    "import pandas as pd\n",
    "import numpy as np\n",
    "import datetime\n",
    "import matplotlib.pyplot as plt\n"
   ]
  },
  {
   "cell_type": "code",
   "execution_count": 4,
   "id": "7e95105b",
   "metadata": {},
   "outputs": [],
   "source": [
    "blue= \"BLUEMESARESERVOIR02-13-2023T11.21.41.csv\"\n",
    "flam= \"FLAMINGGORGERESERVOIR02-13-2023T11.01.36.csv\"\n",
    "font= \"FONTENELLERESERVOIR02-13-2023T11.22.17.csv\"\n",
    "lake= \"LAKEPOWELL02-13-2023T11.05.37.csv\"\n",
    "morr= \"MORROWPOINTRESERVOIR02-13-2023T11.20.16.csv\"\n",
    "nava= \"NAVAJORESERVOIR02-13-2023T11.04.56.csv\"\n",
    "stra= \"STRAWBERRYRESERVOIR(EXPANDED)02-13-2023T11.03.18.csv\"\n",
    "\n",
    "blue_df=pd.read_csv(blue)\n",
    "flam_df=pd.read_csv(flam)\n",
    "font_df=pd.read_csv(font)\n",
    "lake_df=pd.read_csv(lake)\n",
    "morr_df=pd.read_csv(morr)\n",
    "nava_df=pd.read_csv(nava)\n",
    "stra_df=pd.read_csv(stra)"
   ]
  },
  {
   "cell_type": "code",
   "execution_count": null,
   "id": "b7d44963",
   "metadata": {},
   "outputs": [],
   "source": []
  }
 ],
 "metadata": {
  "kernelspec": {
   "display_name": "PythonData2",
   "language": "python",
   "name": "pythondata2"
  },
  "language_info": {
   "codemirror_mode": {
    "name": "ipython",
    "version": 3
   },
   "file_extension": ".py",
   "mimetype": "text/x-python",
   "name": "python",
   "nbconvert_exporter": "python",
   "pygments_lexer": "ipython3",
   "version": "3.9.13"
  }
 },
 "nbformat": 4,
 "nbformat_minor": 5
}
